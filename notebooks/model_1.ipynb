{
 "cells": [
  {
   "cell_type": "markdown",
   "id": "9af5153d",
   "metadata": {},
   "source": [
    "# Make (Train | Test) Dataset"
   ]
  },
  {
   "cell_type": "code",
   "execution_count": 1,
   "id": "f1ca1097",
   "metadata": {},
   "outputs": [],
   "source": [
    "import pandas as pd\n",
    "from sklearn.model_selection import train_test_split"
   ]
  },
  {
   "cell_type": "markdown",
   "id": "98550329",
   "metadata": {},
   "source": [
    "### Read the data"
   ]
  },
  {
   "cell_type": "code",
   "execution_count": 8,
   "id": "820267c1",
   "metadata": {},
   "outputs": [],
   "source": [
    "X = pd.read_csv('../data_root/raw/wine_dataset.csv', index_col=0)"
   ]
  },
  {
   "cell_type": "code",
   "execution_count": 10,
   "id": "401a7875",
   "metadata": {},
   "outputs": [
    {
     "data": {
      "text/plain": [
       "(10000, 13)"
      ]
     },
     "execution_count": 10,
     "metadata": {},
     "output_type": "execute_result"
    }
   ],
   "source": [
    "X.shape"
   ]
  },
  {
   "cell_type": "code",
   "execution_count": 9,
   "id": "f024b18a",
   "metadata": {
    "scrolled": true
   },
   "outputs": [
    {
     "data": {
      "text/html": [
       "<div>\n",
       "<style scoped>\n",
       "    .dataframe tbody tr th:only-of-type {\n",
       "        vertical-align: middle;\n",
       "    }\n",
       "\n",
       "    .dataframe tbody tr th {\n",
       "        vertical-align: top;\n",
       "    }\n",
       "\n",
       "    .dataframe thead th {\n",
       "        text-align: right;\n",
       "    }\n",
       "</style>\n",
       "<table border=\"1\" class=\"dataframe\">\n",
       "  <thead>\n",
       "    <tr style=\"text-align: right;\">\n",
       "      <th></th>\n",
       "      <th>country</th>\n",
       "      <th>description</th>\n",
       "      <th>designation</th>\n",
       "      <th>points</th>\n",
       "      <th>price</th>\n",
       "      <th>province</th>\n",
       "      <th>region_1</th>\n",
       "      <th>region_2</th>\n",
       "      <th>taster_name</th>\n",
       "      <th>taster_twitter_handle</th>\n",
       "      <th>title</th>\n",
       "      <th>variety</th>\n",
       "      <th>winery</th>\n",
       "    </tr>\n",
       "  </thead>\n",
       "  <tbody>\n",
       "    <tr>\n",
       "      <th>0</th>\n",
       "      <td>Italy</td>\n",
       "      <td>Fragrances suggest hay, crushed tomato vine an...</td>\n",
       "      <td>Kirchleiten</td>\n",
       "      <td>90</td>\n",
       "      <td>30.0</td>\n",
       "      <td>Northeastern Italy</td>\n",
       "      <td>Alto Adige</td>\n",
       "      <td>NaN</td>\n",
       "      <td>Kerin O’Keefe</td>\n",
       "      <td>@kerinokeefe</td>\n",
       "      <td>Tiefenbrunner 2012 Kirchleiten Sauvignon (Alto...</td>\n",
       "      <td>Sauvignon</td>\n",
       "      <td>Tiefenbrunner</td>\n",
       "    </tr>\n",
       "    <tr>\n",
       "      <th>1</th>\n",
       "      <td>France</td>\n",
       "      <td>Packed with fruit and crisp acidity, this is a...</td>\n",
       "      <td>NaN</td>\n",
       "      <td>87</td>\n",
       "      <td>22.0</td>\n",
       "      <td>Loire Valley</td>\n",
       "      <td>Sancerre</td>\n",
       "      <td>NaN</td>\n",
       "      <td>Roger Voss</td>\n",
       "      <td>@vossroger</td>\n",
       "      <td>Bernard Reverdy et Fils 2014 Rosé (Sancerre)</td>\n",
       "      <td>Rosé</td>\n",
       "      <td>Bernard Reverdy et Fils</td>\n",
       "    </tr>\n",
       "    <tr>\n",
       "      <th>2</th>\n",
       "      <td>Italy</td>\n",
       "      <td>This easy, ruby-red wine displays fresh berry ...</td>\n",
       "      <td>NaN</td>\n",
       "      <td>86</td>\n",
       "      <td>NaN</td>\n",
       "      <td>Tuscany</td>\n",
       "      <td>Chianti Classico</td>\n",
       "      <td>NaN</td>\n",
       "      <td>NaN</td>\n",
       "      <td>NaN</td>\n",
       "      <td>Dievole 2009  Chianti Classico</td>\n",
       "      <td>Sangiovese</td>\n",
       "      <td>Dievole</td>\n",
       "    </tr>\n",
       "    <tr>\n",
       "      <th>3</th>\n",
       "      <td>US</td>\n",
       "      <td>Pretty in violet and rose petals this is a low...</td>\n",
       "      <td>Horseshoe Bend Vineyard</td>\n",
       "      <td>92</td>\n",
       "      <td>50.0</td>\n",
       "      <td>California</td>\n",
       "      <td>Russian River Valley</td>\n",
       "      <td>Sonoma</td>\n",
       "      <td>Virginie Boone</td>\n",
       "      <td>@vboone</td>\n",
       "      <td>Davis Family 2012 Horseshoe Bend Vineyard Pino...</td>\n",
       "      <td>Pinot Noir</td>\n",
       "      <td>Davis Family</td>\n",
       "    </tr>\n",
       "    <tr>\n",
       "      <th>4</th>\n",
       "      <td>US</td>\n",
       "      <td>This golden wine confounds in a mix of wet sto...</td>\n",
       "      <td>Dutton Ranch</td>\n",
       "      <td>93</td>\n",
       "      <td>38.0</td>\n",
       "      <td>California</td>\n",
       "      <td>Russian River Valley</td>\n",
       "      <td>Sonoma</td>\n",
       "      <td>Virginie Boone</td>\n",
       "      <td>@vboone</td>\n",
       "      <td>Dutton-Goldfield 2013 Dutton Ranch Chardonnay ...</td>\n",
       "      <td>Chardonnay</td>\n",
       "      <td>Dutton-Goldfield</td>\n",
       "    </tr>\n",
       "  </tbody>\n",
       "</table>\n",
       "</div>"
      ],
      "text/plain": [
       "  country                                        description  \\\n",
       "0   Italy  Fragrances suggest hay, crushed tomato vine an...   \n",
       "1  France  Packed with fruit and crisp acidity, this is a...   \n",
       "2   Italy  This easy, ruby-red wine displays fresh berry ...   \n",
       "3      US  Pretty in violet and rose petals this is a low...   \n",
       "4      US  This golden wine confounds in a mix of wet sto...   \n",
       "\n",
       "               designation  points  price            province  \\\n",
       "0              Kirchleiten      90   30.0  Northeastern Italy   \n",
       "1                      NaN      87   22.0        Loire Valley   \n",
       "2                      NaN      86    NaN             Tuscany   \n",
       "3  Horseshoe Bend Vineyard      92   50.0          California   \n",
       "4             Dutton Ranch      93   38.0          California   \n",
       "\n",
       "               region_1 region_2     taster_name taster_twitter_handle  \\\n",
       "0            Alto Adige      NaN   Kerin O’Keefe          @kerinokeefe   \n",
       "1              Sancerre      NaN      Roger Voss            @vossroger   \n",
       "2      Chianti Classico      NaN             NaN                   NaN   \n",
       "3  Russian River Valley   Sonoma  Virginie Boone               @vboone   \n",
       "4  Russian River Valley   Sonoma  Virginie Boone               @vboone   \n",
       "\n",
       "                                               title     variety  \\\n",
       "0  Tiefenbrunner 2012 Kirchleiten Sauvignon (Alto...   Sauvignon   \n",
       "1       Bernard Reverdy et Fils 2014 Rosé (Sancerre)        Rosé   \n",
       "2                     Dievole 2009  Chianti Classico  Sangiovese   \n",
       "3  Davis Family 2012 Horseshoe Bend Vineyard Pino...  Pinot Noir   \n",
       "4  Dutton-Goldfield 2013 Dutton Ranch Chardonnay ...  Chardonnay   \n",
       "\n",
       "                    winery  \n",
       "0            Tiefenbrunner  \n",
       "1  Bernard Reverdy et Fils  \n",
       "2                  Dievole  \n",
       "3             Davis Family  \n",
       "4         Dutton-Goldfield  "
      ]
     },
     "execution_count": 9,
     "metadata": {},
     "output_type": "execute_result"
    }
   ],
   "source": [
    "X.head()"
   ]
  },
  {
   "cell_type": "markdown",
   "id": "4b0a9c8c",
   "metadata": {},
   "source": [
    "### Remove rows with missing target, separate target from predictors"
   ]
  },
  {
   "cell_type": "code",
   "execution_count": 11,
   "id": "1b869ca7",
   "metadata": {},
   "outputs": [],
   "source": [
    "X.dropna(axis=0, subset=['points'], inplace=True)\n",
    "y = X.points              \n",
    "X.drop(['points'], axis=1, inplace=True)"
   ]
  },
  {
   "cell_type": "code",
   "execution_count": 12,
   "id": "3d130cc0",
   "metadata": {},
   "outputs": [
    {
     "data": {
      "text/plain": [
       "((10000, 12), (10000,))"
      ]
     },
     "execution_count": 12,
     "metadata": {},
     "output_type": "execute_result"
    }
   ],
   "source": [
    "X.shape, y.shape"
   ]
  },
  {
   "cell_type": "code",
   "execution_count": 13,
   "id": "6452d523",
   "metadata": {},
   "outputs": [
    {
     "data": {
      "text/html": [
       "<div>\n",
       "<style scoped>\n",
       "    .dataframe tbody tr th:only-of-type {\n",
       "        vertical-align: middle;\n",
       "    }\n",
       "\n",
       "    .dataframe tbody tr th {\n",
       "        vertical-align: top;\n",
       "    }\n",
       "\n",
       "    .dataframe thead th {\n",
       "        text-align: right;\n",
       "    }\n",
       "</style>\n",
       "<table border=\"1\" class=\"dataframe\">\n",
       "  <thead>\n",
       "    <tr style=\"text-align: right;\">\n",
       "      <th></th>\n",
       "      <th>country</th>\n",
       "      <th>description</th>\n",
       "      <th>designation</th>\n",
       "      <th>price</th>\n",
       "      <th>province</th>\n",
       "      <th>region_1</th>\n",
       "      <th>region_2</th>\n",
       "      <th>taster_name</th>\n",
       "      <th>taster_twitter_handle</th>\n",
       "      <th>title</th>\n",
       "      <th>variety</th>\n",
       "      <th>winery</th>\n",
       "    </tr>\n",
       "  </thead>\n",
       "  <tbody>\n",
       "    <tr>\n",
       "      <th>0</th>\n",
       "      <td>Italy</td>\n",
       "      <td>Fragrances suggest hay, crushed tomato vine an...</td>\n",
       "      <td>Kirchleiten</td>\n",
       "      <td>30.0</td>\n",
       "      <td>Northeastern Italy</td>\n",
       "      <td>Alto Adige</td>\n",
       "      <td>NaN</td>\n",
       "      <td>Kerin O’Keefe</td>\n",
       "      <td>@kerinokeefe</td>\n",
       "      <td>Tiefenbrunner 2012 Kirchleiten Sauvignon (Alto...</td>\n",
       "      <td>Sauvignon</td>\n",
       "      <td>Tiefenbrunner</td>\n",
       "    </tr>\n",
       "    <tr>\n",
       "      <th>1</th>\n",
       "      <td>France</td>\n",
       "      <td>Packed with fruit and crisp acidity, this is a...</td>\n",
       "      <td>NaN</td>\n",
       "      <td>22.0</td>\n",
       "      <td>Loire Valley</td>\n",
       "      <td>Sancerre</td>\n",
       "      <td>NaN</td>\n",
       "      <td>Roger Voss</td>\n",
       "      <td>@vossroger</td>\n",
       "      <td>Bernard Reverdy et Fils 2014 Rosé (Sancerre)</td>\n",
       "      <td>Rosé</td>\n",
       "      <td>Bernard Reverdy et Fils</td>\n",
       "    </tr>\n",
       "    <tr>\n",
       "      <th>2</th>\n",
       "      <td>Italy</td>\n",
       "      <td>This easy, ruby-red wine displays fresh berry ...</td>\n",
       "      <td>NaN</td>\n",
       "      <td>NaN</td>\n",
       "      <td>Tuscany</td>\n",
       "      <td>Chianti Classico</td>\n",
       "      <td>NaN</td>\n",
       "      <td>NaN</td>\n",
       "      <td>NaN</td>\n",
       "      <td>Dievole 2009  Chianti Classico</td>\n",
       "      <td>Sangiovese</td>\n",
       "      <td>Dievole</td>\n",
       "    </tr>\n",
       "    <tr>\n",
       "      <th>3</th>\n",
       "      <td>US</td>\n",
       "      <td>Pretty in violet and rose petals this is a low...</td>\n",
       "      <td>Horseshoe Bend Vineyard</td>\n",
       "      <td>50.0</td>\n",
       "      <td>California</td>\n",
       "      <td>Russian River Valley</td>\n",
       "      <td>Sonoma</td>\n",
       "      <td>Virginie Boone</td>\n",
       "      <td>@vboone</td>\n",
       "      <td>Davis Family 2012 Horseshoe Bend Vineyard Pino...</td>\n",
       "      <td>Pinot Noir</td>\n",
       "      <td>Davis Family</td>\n",
       "    </tr>\n",
       "    <tr>\n",
       "      <th>4</th>\n",
       "      <td>US</td>\n",
       "      <td>This golden wine confounds in a mix of wet sto...</td>\n",
       "      <td>Dutton Ranch</td>\n",
       "      <td>38.0</td>\n",
       "      <td>California</td>\n",
       "      <td>Russian River Valley</td>\n",
       "      <td>Sonoma</td>\n",
       "      <td>Virginie Boone</td>\n",
       "      <td>@vboone</td>\n",
       "      <td>Dutton-Goldfield 2013 Dutton Ranch Chardonnay ...</td>\n",
       "      <td>Chardonnay</td>\n",
       "      <td>Dutton-Goldfield</td>\n",
       "    </tr>\n",
       "  </tbody>\n",
       "</table>\n",
       "</div>"
      ],
      "text/plain": [
       "  country                                        description  \\\n",
       "0   Italy  Fragrances suggest hay, crushed tomato vine an...   \n",
       "1  France  Packed with fruit and crisp acidity, this is a...   \n",
       "2   Italy  This easy, ruby-red wine displays fresh berry ...   \n",
       "3      US  Pretty in violet and rose petals this is a low...   \n",
       "4      US  This golden wine confounds in a mix of wet sto...   \n",
       "\n",
       "               designation  price            province              region_1  \\\n",
       "0              Kirchleiten   30.0  Northeastern Italy            Alto Adige   \n",
       "1                      NaN   22.0        Loire Valley              Sancerre   \n",
       "2                      NaN    NaN             Tuscany      Chianti Classico   \n",
       "3  Horseshoe Bend Vineyard   50.0          California  Russian River Valley   \n",
       "4             Dutton Ranch   38.0          California  Russian River Valley   \n",
       "\n",
       "  region_2     taster_name taster_twitter_handle  \\\n",
       "0      NaN   Kerin O’Keefe          @kerinokeefe   \n",
       "1      NaN      Roger Voss            @vossroger   \n",
       "2      NaN             NaN                   NaN   \n",
       "3   Sonoma  Virginie Boone               @vboone   \n",
       "4   Sonoma  Virginie Boone               @vboone   \n",
       "\n",
       "                                               title     variety  \\\n",
       "0  Tiefenbrunner 2012 Kirchleiten Sauvignon (Alto...   Sauvignon   \n",
       "1       Bernard Reverdy et Fils 2014 Rosé (Sancerre)        Rosé   \n",
       "2                     Dievole 2009  Chianti Classico  Sangiovese   \n",
       "3  Davis Family 2012 Horseshoe Bend Vineyard Pino...  Pinot Noir   \n",
       "4  Dutton-Goldfield 2013 Dutton Ranch Chardonnay ...  Chardonnay   \n",
       "\n",
       "                    winery  \n",
       "0            Tiefenbrunner  \n",
       "1  Bernard Reverdy et Fils  \n",
       "2                  Dievole  \n",
       "3             Davis Family  \n",
       "4         Dutton-Goldfield  "
      ]
     },
     "execution_count": 13,
     "metadata": {},
     "output_type": "execute_result"
    }
   ],
   "source": [
    "X.head()"
   ]
  },
  {
   "cell_type": "code",
   "execution_count": 14,
   "id": "e84b9e77",
   "metadata": {},
   "outputs": [
    {
     "data": {
      "text/plain": [
       "0    90\n",
       "1    87\n",
       "2    86\n",
       "3    92\n",
       "4    93\n",
       "Name: points, dtype: int64"
      ]
     },
     "execution_count": 14,
     "metadata": {},
     "output_type": "execute_result"
    }
   ],
   "source": [
    "y.head()"
   ]
  },
  {
   "cell_type": "markdown",
   "id": "b30b4c78",
   "metadata": {},
   "source": [
    "### Break off validation set from training data"
   ]
  },
  {
   "cell_type": "code",
   "execution_count": 15,
   "id": "3ac94ec1",
   "metadata": {},
   "outputs": [],
   "source": [
    "X_train_full, X_valid_full, y_train, y_valid = train_test_split(X, y, train_size=0.8, test_size=0.2,\n",
    "                                                                random_state=0)"
   ]
  },
  {
   "cell_type": "code",
   "execution_count": 16,
   "id": "e525889c",
   "metadata": {},
   "outputs": [
    {
     "data": {
      "text/plain": [
       "((8000, 12), (2000, 12), (8000,), (2000,))"
      ]
     },
     "execution_count": 16,
     "metadata": {},
     "output_type": "execute_result"
    }
   ],
   "source": [
    "X_train_full.shape, X_valid_full.shape, y_train.shape, y_valid.shape"
   ]
  },
  {
   "cell_type": "markdown",
   "id": "2b572a4a",
   "metadata": {},
   "source": [
    "### Drop high-cardinality and uncecessary features\n",
    "\n",
    "High-cardinality features (number of unique values) can lead to poor model performance and memory issues when trying to fit the model because encoding can result in extremely large matrices of values."
   ]
  },
  {
   "cell_type": "code",
   "execution_count": 30,
   "id": "2913e36e",
   "metadata": {},
   "outputs": [],
   "source": [
    "# Select categorical columns with relatively low cardinality\n",
    "low_cardinality_cols = [cname for cname in X_train_full.columns if X_train_full[cname].nunique() < 1000 and \n",
    "                        X_train_full[cname].dtype == \"object\"]"
   ]
  },
  {
   "cell_type": "markdown",
   "id": "d1651112",
   "metadata": {},
   "source": [
    "Doing some research into the factors that influence wine quality, a large consensus centers around enviromental factors (i.e. climate, temperature, sunlight, soil etc...), so features about geographical location (i.e. country, province, region etc...) make sense."
   ]
  },
  {
   "cell_type": "code",
   "execution_count": 31,
   "id": "390d4e9b",
   "metadata": {
    "scrolled": false
   },
   "outputs": [
    {
     "data": {
      "text/plain": [
       "['country',\n",
       " 'province',\n",
       " 'region_1',\n",
       " 'region_2',\n",
       " 'taster_name',\n",
       " 'taster_twitter_handle',\n",
       " 'variety']"
      ]
     },
     "execution_count": 31,
     "metadata": {},
     "output_type": "execute_result"
    }
   ],
   "source": [
    "low_cardinality_cols"
   ]
  },
  {
   "cell_type": "markdown",
   "id": "3d2732e9",
   "metadata": {},
   "source": [
    "`taster_twitter_handle` provides no additional information on top of `taster_name` so we'll remove it."
   ]
  },
  {
   "cell_type": "code",
   "execution_count": 34,
   "id": "7e0de30c",
   "metadata": {},
   "outputs": [
    {
     "data": {
      "text/plain": [
       "['country', 'province', 'region_1', 'region_2', 'taster_name', 'variety']"
      ]
     },
     "execution_count": 34,
     "metadata": {},
     "output_type": "execute_result"
    }
   ],
   "source": [
    "low_cardinality_cols.remove('taster_twitter_handle')\n",
    "low_cardinality_cols"
   ]
  },
  {
   "cell_type": "markdown",
   "id": "75ca0d10",
   "metadata": {},
   "source": [
    "### Select numeric columns"
   ]
  },
  {
   "cell_type": "code",
   "execution_count": 35,
   "id": "47a3d446",
   "metadata": {},
   "outputs": [
    {
     "data": {
      "text/plain": [
       "['price']"
      ]
     },
     "execution_count": 35,
     "metadata": {},
     "output_type": "execute_result"
    }
   ],
   "source": [
    "numeric_cols = [cname for cname in X_train_full.columns if X_train_full[cname].dtype in ['int64', 'float64']]\n",
    "numeric_cols"
   ]
  },
  {
   "cell_type": "markdown",
   "id": "0efef8c8",
   "metadata": {},
   "source": [
    "### Keep selected columns only"
   ]
  },
  {
   "cell_type": "code",
   "execution_count": 37,
   "id": "1be9215e",
   "metadata": {},
   "outputs": [],
   "source": [
    "my_cols = low_cardinality_cols + numeric_cols\n",
    "X_train = X_train_full[my_cols].copy()\n",
    "X_valid = X_valid_full[my_cols].copy()"
   ]
  },
  {
   "cell_type": "code",
   "execution_count": 39,
   "id": "c2ae71b8",
   "metadata": {},
   "outputs": [
    {
     "data": {
      "text/plain": [
       "((8000, 7), (2000, 7))"
      ]
     },
     "execution_count": 39,
     "metadata": {},
     "output_type": "execute_result"
    }
   ],
   "source": [
    "X_train.shape, X_valid.shape"
   ]
  },
  {
   "cell_type": "markdown",
   "id": "0e4a5cb0",
   "metadata": {},
   "source": [
    "### One-hot encode the data and align the columns between the train and validation datasets"
   ]
  },
  {
   "cell_type": "code",
   "execution_count": 41,
   "id": "915c61aa",
   "metadata": {},
   "outputs": [],
   "source": [
    "X_train = pd.get_dummies(X_train)\n",
    "X_valid = pd.get_dummies(X_valid)\n",
    "X_train, X_valid = X_train.align(X_valid, join='left', axis=1)"
   ]
  },
  {
   "cell_type": "code",
   "execution_count": 42,
   "id": "e50152f4",
   "metadata": {},
   "outputs": [
    {
     "data": {
      "text/plain": [
       "((8000, 1267), (2000, 1267))"
      ]
     },
     "execution_count": 42,
     "metadata": {},
     "output_type": "execute_result"
    }
   ],
   "source": [
    "X_train.shape, X_valid.shape"
   ]
  },
  {
   "cell_type": "code",
   "execution_count": 43,
   "id": "a9b150cc",
   "metadata": {},
   "outputs": [
    {
     "data": {
      "text/plain": [
       "(Index(['price', 'country_Argentina', 'country_Australia', 'country_Austria',\n",
       "        'country_Brazil', 'country_Bulgaria', 'country_Canada', 'country_Chile',\n",
       "        'country_Croatia', 'country_Cyprus',\n",
       "        ...\n",
       "        'variety_Viognier-Marsanne', 'variety_Vitovska', 'variety_Viura',\n",
       "        'variety_Viura-Chardonnay', 'variety_Weissburgunder',\n",
       "        'variety_White Blend', 'variety_Xarel-lo', 'variety_Xinomavro',\n",
       "        'variety_Zinfandel', 'variety_Zweigelt'],\n",
       "       dtype='object', length=1267),\n",
       " Index(['price', 'country_Argentina', 'country_Australia', 'country_Austria',\n",
       "        'country_Brazil', 'country_Bulgaria', 'country_Canada', 'country_Chile',\n",
       "        'country_Croatia', 'country_Cyprus',\n",
       "        ...\n",
       "        'variety_Viognier-Marsanne', 'variety_Vitovska', 'variety_Viura',\n",
       "        'variety_Viura-Chardonnay', 'variety_Weissburgunder',\n",
       "        'variety_White Blend', 'variety_Xarel-lo', 'variety_Xinomavro',\n",
       "        'variety_Zinfandel', 'variety_Zweigelt'],\n",
       "       dtype='object', length=1267))"
      ]
     },
     "execution_count": 43,
     "metadata": {},
     "output_type": "execute_result"
    }
   ],
   "source": [
    "X_train.columns, X_valid.columns"
   ]
  },
  {
   "cell_type": "markdown",
   "id": "f27a938c",
   "metadata": {},
   "source": [
    "# Train Model\n",
    "\n",
    "XGBoost is considered one of the best machine learning libraries for predicting tabular data.  (Explain a bit about the algo?)\n",
    "\n",
    "We will use the `XGBRegressor` to predict wine points."
   ]
  },
  {
   "cell_type": "code",
   "execution_count": 44,
   "id": "ceb9afc0",
   "metadata": {},
   "outputs": [],
   "source": [
    "from xgboost import XGBRegressor"
   ]
  },
  {
   "cell_type": "markdown",
   "id": "68d98b3b",
   "metadata": {},
   "source": [
    "(explain hyperparameters, use notes)\n",
    "\n",
    "(set `verbose=False` for production)"
   ]
  },
  {
   "cell_type": "code",
   "execution_count": 73,
   "id": "2ed1ef4a",
   "metadata": {},
   "outputs": [
    {
     "name": "stdout",
     "output_type": "stream",
     "text": [
      "[0]\tvalidation_0-rmse:83.61224\n",
      "[1]\tvalidation_0-rmse:79.43694\n",
      "[2]\tvalidation_0-rmse:75.46937\n",
      "[3]\tvalidation_0-rmse:71.70147\n",
      "[4]\tvalidation_0-rmse:68.12328\n",
      "[5]\tvalidation_0-rmse:64.72417\n",
      "[6]\tvalidation_0-rmse:61.49339\n",
      "[7]\tvalidation_0-rmse:58.42688\n",
      "[8]\tvalidation_0-rmse:55.51317\n",
      "[9]\tvalidation_0-rmse:52.74454\n",
      "[10]\tvalidation_0-rmse:50.11608\n",
      "[11]\tvalidation_0-rmse:47.61934\n",
      "[12]\tvalidation_0-rmse:45.24560\n",
      "[13]\tvalidation_0-rmse:42.99186\n",
      "[14]\tvalidation_0-rmse:40.85226\n",
      "[15]\tvalidation_0-rmse:38.81837\n",
      "[16]\tvalidation_0-rmse:36.88747\n",
      "[17]\tvalidation_0-rmse:35.05310\n",
      "[18]\tvalidation_0-rmse:33.31047\n",
      "[19]\tvalidation_0-rmse:31.65555\n",
      "[20]\tvalidation_0-rmse:30.08478\n",
      "[21]\tvalidation_0-rmse:28.59279\n",
      "[22]\tvalidation_0-rmse:27.17541\n",
      "[23]\tvalidation_0-rmse:25.82993\n",
      "[24]\tvalidation_0-rmse:24.55192\n",
      "[25]\tvalidation_0-rmse:23.33959\n",
      "[26]\tvalidation_0-rmse:22.18844\n",
      "[27]\tvalidation_0-rmse:21.09504\n",
      "[28]\tvalidation_0-rmse:20.05732\n",
      "[29]\tvalidation_0-rmse:19.07234\n",
      "[30]\tvalidation_0-rmse:18.13786\n",
      "[31]\tvalidation_0-rmse:17.25007\n",
      "[32]\tvalidation_0-rmse:16.40631\n",
      "[33]\tvalidation_0-rmse:15.60657\n",
      "[34]\tvalidation_0-rmse:14.84700\n",
      "[35]\tvalidation_0-rmse:14.12588\n",
      "[36]\tvalidation_0-rmse:13.44319\n",
      "[37]\tvalidation_0-rmse:12.79489\n",
      "[38]\tvalidation_0-rmse:12.17967\n",
      "[39]\tvalidation_0-rmse:11.59688\n",
      "[40]\tvalidation_0-rmse:11.04407\n",
      "[41]\tvalidation_0-rmse:10.52071\n",
      "[42]\tvalidation_0-rmse:10.02393\n",
      "[43]\tvalidation_0-rmse:9.55361\n",
      "[44]\tvalidation_0-rmse:9.10924\n",
      "[45]\tvalidation_0-rmse:8.68757\n",
      "[46]\tvalidation_0-rmse:8.28868\n",
      "[47]\tvalidation_0-rmse:7.91132\n",
      "[48]\tvalidation_0-rmse:7.55378\n",
      "[49]\tvalidation_0-rmse:7.21638\n",
      "[50]\tvalidation_0-rmse:6.89744\n",
      "[51]\tvalidation_0-rmse:6.59640\n",
      "[52]\tvalidation_0-rmse:6.31156\n",
      "[53]\tvalidation_0-rmse:6.04368\n",
      "[54]\tvalidation_0-rmse:5.79132\n",
      "[55]\tvalidation_0-rmse:5.55308\n",
      "[56]\tvalidation_0-rmse:5.32789\n",
      "[57]\tvalidation_0-rmse:5.11641\n",
      "[58]\tvalidation_0-rmse:4.91856\n",
      "[59]\tvalidation_0-rmse:4.73192\n",
      "[60]\tvalidation_0-rmse:4.55738\n",
      "[61]\tvalidation_0-rmse:4.39347\n",
      "[62]\tvalidation_0-rmse:4.24028\n",
      "[63]\tvalidation_0-rmse:4.09638\n",
      "[64]\tvalidation_0-rmse:3.96257\n",
      "[65]\tvalidation_0-rmse:3.83632\n",
      "[66]\tvalidation_0-rmse:3.71850\n",
      "[67]\tvalidation_0-rmse:3.60954\n",
      "[68]\tvalidation_0-rmse:3.50743\n",
      "[69]\tvalidation_0-rmse:3.41375\n",
      "[70]\tvalidation_0-rmse:3.32606\n",
      "[71]\tvalidation_0-rmse:3.24537\n",
      "[72]\tvalidation_0-rmse:3.17041\n",
      "[73]\tvalidation_0-rmse:3.10139\n",
      "[74]\tvalidation_0-rmse:3.03625\n",
      "[75]\tvalidation_0-rmse:2.97719\n",
      "[76]\tvalidation_0-rmse:2.92312\n",
      "[77]\tvalidation_0-rmse:2.87231\n",
      "[78]\tvalidation_0-rmse:2.82593\n",
      "[79]\tvalidation_0-rmse:2.78374\n",
      "[80]\tvalidation_0-rmse:2.74458\n",
      "[81]\tvalidation_0-rmse:2.70936\n",
      "[82]\tvalidation_0-rmse:2.67641\n",
      "[83]\tvalidation_0-rmse:2.64597\n",
      "[84]\tvalidation_0-rmse:2.61815\n",
      "[85]\tvalidation_0-rmse:2.59305\n",
      "[86]\tvalidation_0-rmse:2.56999\n",
      "[87]\tvalidation_0-rmse:2.54789\n",
      "[88]\tvalidation_0-rmse:2.52903\n",
      "[89]\tvalidation_0-rmse:2.51135\n",
      "[90]\tvalidation_0-rmse:2.49513\n",
      "[91]\tvalidation_0-rmse:2.48068\n",
      "[92]\tvalidation_0-rmse:2.46705\n",
      "[93]\tvalidation_0-rmse:2.45480\n",
      "[94]\tvalidation_0-rmse:2.44404\n",
      "[95]\tvalidation_0-rmse:2.43363\n",
      "[96]\tvalidation_0-rmse:2.42420\n",
      "[97]\tvalidation_0-rmse:2.41602\n",
      "[98]\tvalidation_0-rmse:2.40837\n",
      "[99]\tvalidation_0-rmse:2.40122\n",
      "[100]\tvalidation_0-rmse:2.39442\n",
      "[101]\tvalidation_0-rmse:2.38867\n",
      "[102]\tvalidation_0-rmse:2.38329\n",
      "[103]\tvalidation_0-rmse:2.37799\n",
      "[104]\tvalidation_0-rmse:2.37376\n",
      "[105]\tvalidation_0-rmse:2.37012\n",
      "[106]\tvalidation_0-rmse:2.36641\n",
      "[107]\tvalidation_0-rmse:2.36355\n",
      "[108]\tvalidation_0-rmse:2.36025\n",
      "[109]\tvalidation_0-rmse:2.35679\n",
      "[110]\tvalidation_0-rmse:2.35436\n",
      "[111]\tvalidation_0-rmse:2.35226\n",
      "[112]\tvalidation_0-rmse:2.35003\n",
      "[113]\tvalidation_0-rmse:2.34750\n",
      "[114]\tvalidation_0-rmse:2.34528\n",
      "[115]\tvalidation_0-rmse:2.34350\n",
      "[116]\tvalidation_0-rmse:2.34218\n",
      "[117]\tvalidation_0-rmse:2.34048\n",
      "[118]\tvalidation_0-rmse:2.33930\n",
      "[119]\tvalidation_0-rmse:2.33804\n",
      "[120]\tvalidation_0-rmse:2.33665\n",
      "[121]\tvalidation_0-rmse:2.33510\n",
      "[122]\tvalidation_0-rmse:2.33419\n",
      "[123]\tvalidation_0-rmse:2.33354\n",
      "[124]\tvalidation_0-rmse:2.33249\n",
      "[125]\tvalidation_0-rmse:2.33170\n",
      "[126]\tvalidation_0-rmse:2.33086\n",
      "[127]\tvalidation_0-rmse:2.32990\n",
      "[128]\tvalidation_0-rmse:2.32941\n",
      "[129]\tvalidation_0-rmse:2.32865\n",
      "[130]\tvalidation_0-rmse:2.32825\n",
      "[131]\tvalidation_0-rmse:2.32799\n",
      "[132]\tvalidation_0-rmse:2.32656\n",
      "[133]\tvalidation_0-rmse:2.32609\n",
      "[134]\tvalidation_0-rmse:2.32610\n",
      "[135]\tvalidation_0-rmse:2.32567\n",
      "[136]\tvalidation_0-rmse:2.32494\n",
      "[137]\tvalidation_0-rmse:2.32410\n",
      "[138]\tvalidation_0-rmse:2.32337\n",
      "[139]\tvalidation_0-rmse:2.32260\n",
      "[140]\tvalidation_0-rmse:2.32246\n",
      "[141]\tvalidation_0-rmse:2.32224\n",
      "[142]\tvalidation_0-rmse:2.32200\n",
      "[143]\tvalidation_0-rmse:2.32140\n",
      "[144]\tvalidation_0-rmse:2.32097\n",
      "[145]\tvalidation_0-rmse:2.32087\n",
      "[146]\tvalidation_0-rmse:2.32064\n",
      "[147]\tvalidation_0-rmse:2.32038\n",
      "[148]\tvalidation_0-rmse:2.32021\n",
      "[149]\tvalidation_0-rmse:2.31986\n",
      "[150]\tvalidation_0-rmse:2.31963\n",
      "[151]\tvalidation_0-rmse:2.31957\n",
      "[152]\tvalidation_0-rmse:2.31940\n",
      "[153]\tvalidation_0-rmse:2.31931\n",
      "[154]\tvalidation_0-rmse:2.31850\n",
      "[155]\tvalidation_0-rmse:2.31819\n",
      "[156]\tvalidation_0-rmse:2.31783\n",
      "[157]\tvalidation_0-rmse:2.31762\n",
      "[158]\tvalidation_0-rmse:2.31738\n",
      "[159]\tvalidation_0-rmse:2.31732\n",
      "[160]\tvalidation_0-rmse:2.31726\n",
      "[161]\tvalidation_0-rmse:2.31655\n",
      "[162]\tvalidation_0-rmse:2.31559\n",
      "[163]\tvalidation_0-rmse:2.31514\n",
      "[164]\tvalidation_0-rmse:2.31507\n",
      "[165]\tvalidation_0-rmse:2.31472\n",
      "[166]\tvalidation_0-rmse:2.31449\n",
      "[167]\tvalidation_0-rmse:2.31456\n",
      "[168]\tvalidation_0-rmse:2.31460\n",
      "[169]\tvalidation_0-rmse:2.31426\n",
      "[170]\tvalidation_0-rmse:2.31410\n",
      "[171]\tvalidation_0-rmse:2.31371\n",
      "[172]\tvalidation_0-rmse:2.31325\n",
      "[173]\tvalidation_0-rmse:2.31316\n",
      "[174]\tvalidation_0-rmse:2.31304\n",
      "[175]\tvalidation_0-rmse:2.31294\n",
      "[176]\tvalidation_0-rmse:2.31286\n",
      "[177]\tvalidation_0-rmse:2.31281\n",
      "[178]\tvalidation_0-rmse:2.31262\n",
      "[179]\tvalidation_0-rmse:2.31252\n",
      "[180]\tvalidation_0-rmse:2.31233\n",
      "[181]\tvalidation_0-rmse:2.31195\n",
      "[182]\tvalidation_0-rmse:2.31169\n",
      "[183]\tvalidation_0-rmse:2.31154\n",
      "[184]\tvalidation_0-rmse:2.31146\n",
      "[185]\tvalidation_0-rmse:2.31129\n",
      "[186]\tvalidation_0-rmse:2.31136\n",
      "[187]\tvalidation_0-rmse:2.31101\n",
      "[188]\tvalidation_0-rmse:2.31112\n",
      "[189]\tvalidation_0-rmse:2.31112\n",
      "[190]\tvalidation_0-rmse:2.31094\n",
      "[191]\tvalidation_0-rmse:2.31084\n",
      "[192]\tvalidation_0-rmse:2.31053\n",
      "[193]\tvalidation_0-rmse:2.31041\n",
      "[194]\tvalidation_0-rmse:2.31047\n",
      "[195]\tvalidation_0-rmse:2.31026\n",
      "[196]\tvalidation_0-rmse:2.31024\n",
      "[197]\tvalidation_0-rmse:2.31017\n",
      "[198]\tvalidation_0-rmse:2.31003\n",
      "[199]\tvalidation_0-rmse:2.30989\n",
      "[200]\tvalidation_0-rmse:2.30988\n",
      "[201]\tvalidation_0-rmse:2.30973\n",
      "[202]\tvalidation_0-rmse:2.30953\n",
      "[203]\tvalidation_0-rmse:2.30958\n",
      "[204]\tvalidation_0-rmse:2.30947\n",
      "[205]\tvalidation_0-rmse:2.30924\n",
      "[206]\tvalidation_0-rmse:2.30895\n",
      "[207]\tvalidation_0-rmse:2.30870\n",
      "[208]\tvalidation_0-rmse:2.30872\n",
      "[209]\tvalidation_0-rmse:2.30856\n",
      "[210]\tvalidation_0-rmse:2.30869\n",
      "[211]\tvalidation_0-rmse:2.30875\n",
      "[212]\tvalidation_0-rmse:2.30876\n",
      "[213]\tvalidation_0-rmse:2.30864\n"
     ]
    },
    {
     "data": {
      "text/plain": [
       "XGBRegressor(base_score=0.5, booster='gbtree', colsample_bylevel=1,\n",
       "             colsample_bynode=1, colsample_bytree=1, gamma=0, gpu_id=-1,\n",
       "             importance_type='gain', interaction_constraints='',\n",
       "             learning_rate=0.05, max_delta_step=0, max_depth=6,\n",
       "             min_child_weight=1, missing=nan, monotone_constraints='()',\n",
       "             n_estimators=1000, n_jobs=12, num_parallel_tree=1, random_state=0,\n",
       "             reg_alpha=0, reg_lambda=1, scale_pos_weight=1, subsample=1,\n",
       "             tree_method='exact', validate_parameters=1, verbosity=None)"
      ]
     },
     "execution_count": 73,
     "metadata": {},
     "output_type": "execute_result"
    }
   ],
   "source": [
    "# Define the model\n",
    "model_1 = XGBRegressor(n_estimators=1000, learning_rate=0.05)\n",
    "\n",
    "# Fit the model\n",
    "model_1.fit(X_train, y_train, early_stopping_rounds=5,\n",
    "            eval_set=[(X_valid, y_valid)], verbose=True)"
   ]
  },
  {
   "cell_type": "markdown",
   "id": "dd0f72fb",
   "metadata": {},
   "source": [
    "# Evaluate Model"
   ]
  },
  {
   "cell_type": "code",
   "execution_count": 74,
   "id": "78135d6c",
   "metadata": {},
   "outputs": [
    {
     "name": "stdout",
     "output_type": "stream",
     "text": [
      "Mean Absolute Error: 1.8436909980773926\n"
     ]
    }
   ],
   "source": [
    "from sklearn.metrics import mean_absolute_error\n",
    "\n",
    "# Get predictions\n",
    "predictions_1 = model_1.predict(X_valid)\n",
    "\n",
    "# Calculate MAE\n",
    "mae_1 = mean_absolute_error(predictions_1, y_valid) # Your code here\n",
    "print(\"Mean Absolute Error:\" , mae_1)"
   ]
  },
  {
   "cell_type": "code",
   "execution_count": 75,
   "id": "e3c48bd4",
   "metadata": {
    "scrolled": true
   },
   "outputs": [
    {
     "data": {
      "text/html": [
       "<div>\n",
       "<style scoped>\n",
       "    .dataframe tbody tr th:only-of-type {\n",
       "        vertical-align: middle;\n",
       "    }\n",
       "\n",
       "    .dataframe tbody tr th {\n",
       "        vertical-align: top;\n",
       "    }\n",
       "\n",
       "    .dataframe thead th {\n",
       "        text-align: right;\n",
       "    }\n",
       "</style>\n",
       "<table border=\"1\" class=\"dataframe\">\n",
       "  <thead>\n",
       "    <tr style=\"text-align: right;\">\n",
       "      <th></th>\n",
       "      <th>actual</th>\n",
       "      <th>predict</th>\n",
       "    </tr>\n",
       "  </thead>\n",
       "  <tbody>\n",
       "    <tr>\n",
       "      <th>9394</th>\n",
       "      <td>90</td>\n",
       "      <td>89.473190</td>\n",
       "    </tr>\n",
       "    <tr>\n",
       "      <th>898</th>\n",
       "      <td>89</td>\n",
       "      <td>88.482430</td>\n",
       "    </tr>\n",
       "    <tr>\n",
       "      <th>2398</th>\n",
       "      <td>84</td>\n",
       "      <td>85.651123</td>\n",
       "    </tr>\n",
       "    <tr>\n",
       "      <th>5906</th>\n",
       "      <td>90</td>\n",
       "      <td>89.036766</td>\n",
       "    </tr>\n",
       "    <tr>\n",
       "      <th>2343</th>\n",
       "      <td>84</td>\n",
       "      <td>88.168869</td>\n",
       "    </tr>\n",
       "    <tr>\n",
       "      <th>8225</th>\n",
       "      <td>88</td>\n",
       "      <td>87.790184</td>\n",
       "    </tr>\n",
       "    <tr>\n",
       "      <th>5506</th>\n",
       "      <td>86</td>\n",
       "      <td>90.451157</td>\n",
       "    </tr>\n",
       "    <tr>\n",
       "      <th>6451</th>\n",
       "      <td>91</td>\n",
       "      <td>90.408325</td>\n",
       "    </tr>\n",
       "    <tr>\n",
       "      <th>2670</th>\n",
       "      <td>84</td>\n",
       "      <td>86.473618</td>\n",
       "    </tr>\n",
       "    <tr>\n",
       "      <th>3497</th>\n",
       "      <td>91</td>\n",
       "      <td>88.606300</td>\n",
       "    </tr>\n",
       "    <tr>\n",
       "      <th>1087</th>\n",
       "      <td>86</td>\n",
       "      <td>85.732529</td>\n",
       "    </tr>\n",
       "    <tr>\n",
       "      <th>1819</th>\n",
       "      <td>92</td>\n",
       "      <td>90.128281</td>\n",
       "    </tr>\n",
       "    <tr>\n",
       "      <th>2308</th>\n",
       "      <td>85</td>\n",
       "      <td>87.142426</td>\n",
       "    </tr>\n",
       "    <tr>\n",
       "      <th>6084</th>\n",
       "      <td>90</td>\n",
       "      <td>87.707390</td>\n",
       "    </tr>\n",
       "    <tr>\n",
       "      <th>3724</th>\n",
       "      <td>89</td>\n",
       "      <td>84.655579</td>\n",
       "    </tr>\n",
       "    <tr>\n",
       "      <th>3184</th>\n",
       "      <td>91</td>\n",
       "      <td>88.152832</td>\n",
       "    </tr>\n",
       "    <tr>\n",
       "      <th>6387</th>\n",
       "      <td>91</td>\n",
       "      <td>92.034355</td>\n",
       "    </tr>\n",
       "    <tr>\n",
       "      <th>3728</th>\n",
       "      <td>90</td>\n",
       "      <td>88.720306</td>\n",
       "    </tr>\n",
       "    <tr>\n",
       "      <th>2702</th>\n",
       "      <td>86</td>\n",
       "      <td>89.410271</td>\n",
       "    </tr>\n",
       "    <tr>\n",
       "      <th>7883</th>\n",
       "      <td>88</td>\n",
       "      <td>85.773567</td>\n",
       "    </tr>\n",
       "  </tbody>\n",
       "</table>\n",
       "</div>"
      ],
      "text/plain": [
       "      actual    predict\n",
       "9394      90  89.473190\n",
       "898       89  88.482430\n",
       "2398      84  85.651123\n",
       "5906      90  89.036766\n",
       "2343      84  88.168869\n",
       "8225      88  87.790184\n",
       "5506      86  90.451157\n",
       "6451      91  90.408325\n",
       "2670      84  86.473618\n",
       "3497      91  88.606300\n",
       "1087      86  85.732529\n",
       "1819      92  90.128281\n",
       "2308      85  87.142426\n",
       "6084      90  87.707390\n",
       "3724      89  84.655579\n",
       "3184      91  88.152832\n",
       "6387      91  92.034355\n",
       "3728      90  88.720306\n",
       "2702      86  89.410271\n",
       "7883      88  85.773567"
      ]
     },
     "execution_count": 75,
     "metadata": {},
     "output_type": "execute_result"
    }
   ],
   "source": [
    "compare_1 = pd.DataFrame({'actual': y_valid, 'predict': predictions_1})\n",
    "compare_1.head(20)"
   ]
  },
  {
   "cell_type": "code",
   "execution_count": 79,
   "id": "c4c0f511",
   "metadata": {},
   "outputs": [
    {
     "data": {
      "text/html": [
       "<div>\n",
       "<style scoped>\n",
       "    .dataframe tbody tr th:only-of-type {\n",
       "        vertical-align: middle;\n",
       "    }\n",
       "\n",
       "    .dataframe tbody tr th {\n",
       "        vertical-align: top;\n",
       "    }\n",
       "\n",
       "    .dataframe thead th {\n",
       "        text-align: right;\n",
       "    }\n",
       "</style>\n",
       "<table border=\"1\" class=\"dataframe\">\n",
       "  <thead>\n",
       "    <tr style=\"text-align: right;\">\n",
       "      <th></th>\n",
       "      <th>actual</th>\n",
       "      <th>predict</th>\n",
       "    </tr>\n",
       "  </thead>\n",
       "  <tbody>\n",
       "    <tr>\n",
       "      <th>4388</th>\n",
       "      <td>86</td>\n",
       "      <td>83.520111</td>\n",
       "    </tr>\n",
       "    <tr>\n",
       "      <th>9477</th>\n",
       "      <td>84</td>\n",
       "      <td>83.935944</td>\n",
       "    </tr>\n",
       "    <tr>\n",
       "      <th>8204</th>\n",
       "      <td>86</td>\n",
       "      <td>83.963394</td>\n",
       "    </tr>\n",
       "    <tr>\n",
       "      <th>6726</th>\n",
       "      <td>84</td>\n",
       "      <td>84.061501</td>\n",
       "    </tr>\n",
       "    <tr>\n",
       "      <th>5091</th>\n",
       "      <td>82</td>\n",
       "      <td>84.208778</td>\n",
       "    </tr>\n",
       "    <tr>\n",
       "      <th>196</th>\n",
       "      <td>83</td>\n",
       "      <td>84.329315</td>\n",
       "    </tr>\n",
       "    <tr>\n",
       "      <th>4138</th>\n",
       "      <td>84</td>\n",
       "      <td>84.349823</td>\n",
       "    </tr>\n",
       "    <tr>\n",
       "      <th>9549</th>\n",
       "      <td>86</td>\n",
       "      <td>84.393311</td>\n",
       "    </tr>\n",
       "    <tr>\n",
       "      <th>5838</th>\n",
       "      <td>85</td>\n",
       "      <td>84.393311</td>\n",
       "    </tr>\n",
       "    <tr>\n",
       "      <th>6450</th>\n",
       "      <td>85</td>\n",
       "      <td>84.447937</td>\n",
       "    </tr>\n",
       "    <tr>\n",
       "      <th>8505</th>\n",
       "      <td>83</td>\n",
       "      <td>84.479202</td>\n",
       "    </tr>\n",
       "    <tr>\n",
       "      <th>2457</th>\n",
       "      <td>82</td>\n",
       "      <td>84.508301</td>\n",
       "    </tr>\n",
       "    <tr>\n",
       "      <th>3679</th>\n",
       "      <td>83</td>\n",
       "      <td>84.525429</td>\n",
       "    </tr>\n",
       "    <tr>\n",
       "      <th>2724</th>\n",
       "      <td>85</td>\n",
       "      <td>84.543243</td>\n",
       "    </tr>\n",
       "    <tr>\n",
       "      <th>7978</th>\n",
       "      <td>83</td>\n",
       "      <td>84.605621</td>\n",
       "    </tr>\n",
       "    <tr>\n",
       "      <th>7721</th>\n",
       "      <td>85</td>\n",
       "      <td>84.609375</td>\n",
       "    </tr>\n",
       "    <tr>\n",
       "      <th>4131</th>\n",
       "      <td>83</td>\n",
       "      <td>84.633408</td>\n",
       "    </tr>\n",
       "    <tr>\n",
       "      <th>825</th>\n",
       "      <td>85</td>\n",
       "      <td>84.655579</td>\n",
       "    </tr>\n",
       "    <tr>\n",
       "      <th>3724</th>\n",
       "      <td>89</td>\n",
       "      <td>84.655579</td>\n",
       "    </tr>\n",
       "    <tr>\n",
       "      <th>7953</th>\n",
       "      <td>88</td>\n",
       "      <td>84.667381</td>\n",
       "    </tr>\n",
       "  </tbody>\n",
       "</table>\n",
       "</div>"
      ],
      "text/plain": [
       "      actual    predict\n",
       "4388      86  83.520111\n",
       "9477      84  83.935944\n",
       "8204      86  83.963394\n",
       "6726      84  84.061501\n",
       "5091      82  84.208778\n",
       "196       83  84.329315\n",
       "4138      84  84.349823\n",
       "9549      86  84.393311\n",
       "5838      85  84.393311\n",
       "6450      85  84.447937\n",
       "8505      83  84.479202\n",
       "2457      82  84.508301\n",
       "3679      83  84.525429\n",
       "2724      85  84.543243\n",
       "7978      83  84.605621\n",
       "7721      85  84.609375\n",
       "4131      83  84.633408\n",
       "825       85  84.655579\n",
       "3724      89  84.655579\n",
       "7953      88  84.667381"
      ]
     },
     "execution_count": 79,
     "metadata": {},
     "output_type": "execute_result"
    }
   ],
   "source": [
    "compare_1.sort_values('predict').iloc[:20]"
   ]
  }
 ],
 "metadata": {
  "kernelspec": {
   "display_name": "Python 3",
   "language": "python",
   "name": "python3"
  },
  "language_info": {
   "codemirror_mode": {
    "name": "ipython",
    "version": 3
   },
   "file_extension": ".py",
   "mimetype": "text/x-python",
   "name": "python",
   "nbconvert_exporter": "python",
   "pygments_lexer": "ipython3",
   "version": "3.6.13"
  }
 },
 "nbformat": 4,
 "nbformat_minor": 5
}
